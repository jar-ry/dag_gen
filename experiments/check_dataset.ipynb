{
 "cells": [
  {
   "cell_type": "code",
   "execution_count": 18,
   "metadata": {},
   "outputs": [],
   "source": [
    "import cdt\n",
    "import networkx as nx\n",
    "import warnings\n",
    "import numpy as np\n",
    "import os\n",
    "from pandas import DataFrame\n",
    "import csv\n",
    "import os.path\n",
    "import pandas as pd\n",
    "from causalnex.structure import StructureModel\n",
    "from causalnex.plots import plot_structure\n",
    "from IPython.display import Image\n",
    "from os import path\n",
    "warnings.filterwarnings(\"ignore\")  # silence warnings"
   ]
  },
  {
   "cell_type": "code",
   "execution_count": 7,
   "metadata": {},
   "outputs": [],
   "source": [
    "DATA_DIR = \"CLeaR_2023_Dataset/data\"\n",
    "PATH_SPLITTER = \"/\""
   ]
  },
  {
   "cell_type": "code",
   "execution_count": 8,
   "metadata": {},
   "outputs": [
    {
     "data": {
      "text/plain": [
       "True"
      ]
     },
     "execution_count": 8,
     "metadata": {},
     "output_type": "execute_result"
    }
   ],
   "source": [
    "os.path.isdir(DATA_DIR)"
   ]
  },
  {
   "cell_type": "code",
   "execution_count": 9,
   "metadata": {},
   "outputs": [
    {
     "data": {
      "text/plain": [
       "['mix_mechanism']"
      ]
     },
     "execution_count": 9,
     "metadata": {},
     "output_type": "execute_result"
    }
   ],
   "source": [
    "method_dirs = os.listdir(path=DATA_DIR)\n",
    "method_dirs"
   ]
  },
  {
   "cell_type": "code",
   "execution_count": 15,
   "metadata": {},
   "outputs": [],
   "source": [
    "def generate_plot(dag_path, data_path, plot_path, csv_path):\n",
    "    dag = np.load(dag_path)\n",
    "    data = np.load(data_path)\n",
    "\n",
    "    graph = nx.from_numpy_array(dag, create_using=nx.DiGraph)\n",
    "\n",
    "    e = list(graph.edges())\n",
    "    causal_nex_graph = StructureModel(e)\n",
    "    viz = plot_structure(causal_nex_graph)  # Default CausalNex visualisation\n",
    "    viz.draw(plot_path, format=\"jpg\")\n",
    "\n",
    "    # check if the file exists\n",
    "    file_exists = os.path.isfile(csv_path)\n",
    "\n",
    "    # open the file in append mode\n",
    "    with open(csv_path, \"a\", newline=\"\") as csvfile:\n",
    "        # create a CSV writer object\n",
    "        writer = csv.writer(csvfile)\n",
    "\n",
    "        # if the file doesn't exist, write the header row\n",
    "        if not file_exists:\n",
    "            writer.writerow([\"nodes\", \"edges\"])\n",
    "\n",
    "        # write the value to the CSV file\n",
    "        writer.writerow([graph.number_of_nodes(), graph.number_of_edges()])"
   ]
  },
  {
   "cell_type": "markdown",
   "metadata": {},
   "source": [
    "# Experiment 1 Noise"
   ]
  },
  {
   "cell_type": "code",
   "execution_count": 16,
   "metadata": {},
   "outputs": [],
   "source": [
    "loops = 0\n",
    "for meth_dir in method_dirs:\n",
    "    method_path = os.path.join(DATA_DIR, meth_dir)\n",
    "    mechanism_dirs = os.listdir(path=method_path)\n",
    "\n",
    "    for dataset_dir in mechanism_dirs:\n",
    "        dataset_path = os.path.join(method_path, dataset_dir)\n",
    "        dag_plot_path = os.path.join(dataset_path, \"plot\")\n",
    "        if not os.path.isdir(dag_plot_path):\n",
    "            os.mkdir(dag_plot_path)\n",
    "\n",
    "        dag_mech_path = os.path.join(dataset_path, \"causal_mechanisms.json\")\n",
    "        dag_confounder_path = os.path.join(dataset_path, \"confounder_DAG1.npy\")\n",
    "        dag_path = os.path.join(dataset_path, \"DAG1.npy\")\n",
    "        dag_confounder_data_path = os.path.join(dataset_path, \"confounder_data1.npy\")\n",
    "        dag_data_path = os.path.join(dataset_path, \"data1.npy\")\n",
    "        dag_dataframe_path = os.path.join(dataset_path, \"data1.parquet\")\n",
    "\n",
    "        # Plot Paths\n",
    "        dag_confounder_plot_path = os.path.join(dag_plot_path, \"confounder_plot.jpg\")\n",
    "        dag_plot_path = os.path.join(dag_plot_path, \"plot.jpg\")\n",
    "        csv_path = os.path.join(dag_plot_path, \"details.csv\")\n",
    "        if path.exists(dag_confounder_path):\n",
    "        # Plot DAGs\n",
    "            print(pd.read_parquet(dag_dataframe_path))\n",
    "            generate_plot(dag_path, dag_data_path, dag_plot_path, csv_path)\n",
    "            generate_plot(dag_confounder_path, dag_confounder_data_path, dag_confounder_plot_path, csv_path)\n"
   ]
  },
  {
   "cell_type": "code",
   "execution_count": null,
   "metadata": {},
   "outputs": [],
   "source": []
  }
 ],
 "metadata": {
  "kernelspec": {
   "display_name": "Python 3.7.12 ('python37_ml')",
   "language": "python",
   "name": "python3"
  },
  "language_info": {
   "codemirror_mode": {
    "name": "ipython",
    "version": 3
   },
   "file_extension": ".py",
   "mimetype": "text/x-python",
   "name": "python",
   "nbconvert_exporter": "python",
   "pygments_lexer": "ipython3",
   "version": "3.7.12"
  },
  "orig_nbformat": 4,
  "vscode": {
   "interpreter": {
    "hash": "5be6a64c2b14e215fe1377bac5e5b92f19d9678c98112b4d1212159c456db459"
   }
  }
 },
 "nbformat": 4,
 "nbformat_minor": 2
}
