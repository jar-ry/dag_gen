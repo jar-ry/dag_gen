{
 "cells": [
  {
   "cell_type": "code",
   "execution_count": 15,
   "metadata": {},
   "outputs": [],
   "source": [
    "import pandas as pd\n",
    "import matplotlib.pyplot as plt\n",
    "import seaborn as sns\n",
    "import cdt\n",
    "import os\n",
    "import numpy as np\n",
    "import networkx as nx\n",
    "import json\n",
    "DATA_DIR = \"data\"\n"
   ]
  },
  {
   "cell_type": "code",
   "execution_count": 16,
   "metadata": {},
   "outputs": [],
   "source": [
    "def generate_to_folder(data_path, data_index):\n",
    "    sach_data, sach_graph = cdt.data.load_dataset(\"sachs\")\n",
    "    print(sach_graph)\n",
    "    np.save(data_path + f\"/data{data_index}.npy\", sach_data.to_numpy())\n",
    "    np.save(data_path + f\"/DAG{data_index}.npy\", nx.to_numpy_matrix(sach_graph))"
   ]
  },
  {
   "cell_type": "code",
   "execution_count": 17,
   "metadata": {},
   "outputs": [],
   "source": [
    "dataset_group_path = os.path.join(DATA_DIR, \"sachs\")\n",
    "if not os.path.isdir(DATA_DIR):\n",
    "    os.mkdir(DATA_DIR)\n",
    "if not os.path.isdir(dataset_group_path):\n",
    "    os.mkdir(dataset_group_path)\n",
    "    dataset_path = os.path.join(dataset_group_path, \"sachs_data\")\n",
    "    # If directory doesn't exist or isn't empty\n",
    "    if not os.path.isdir(dataset_path):\n",
    "        os.mkdir(dataset_path)\n",
    "    if len(os.listdir(dataset_path)) == 0:\n",
    "        print(\"Generating: \", dataset_path)\n",
    "        generate_to_folder(data_path=dataset_path, data_index=1)\n",
    "    else:\n",
    "        print(\"Skipping: \", dataset_path)"
   ]
  },
  {
   "cell_type": "code",
   "execution_count": null,
   "metadata": {},
   "outputs": [],
   "source": []
  },
  {
   "cell_type": "code",
   "execution_count": 18,
   "metadata": {},
   "outputs": [
    {
     "name": "stdout",
     "output_type": "stream",
     "text": [
      "DiGraph with 11 nodes and 18 edges\n"
     ]
    }
   ],
   "source": [
    "sach_data, sach_graph = cdt.data.load_dataset(\"sachs\")\n",
    "print(sach_graph)"
   ]
  },
  {
   "cell_type": "code",
   "execution_count": 21,
   "metadata": {},
   "outputs": [
    {
     "data": {
      "text/plain": [
       "17.0"
      ]
     },
     "execution_count": 21,
     "metadata": {},
     "output_type": "execute_result"
    }
   ],
   "source": [
    "np.load(\"sachs/sachs/continuous/DAG1.npy\").sum()"
   ]
  },
  {
   "cell_type": "code",
   "execution_count": 23,
   "metadata": {},
   "outputs": [
    {
     "data": {
      "text/plain": [
       "18.0"
      ]
     },
     "execution_count": 23,
     "metadata": {},
     "output_type": "execute_result"
    }
   ],
   "source": [
    "np.load(\"data/sachs/sachs_data/DAG1.npy\").sum()"
   ]
  },
  {
   "cell_type": "code",
   "execution_count": null,
   "metadata": {},
   "outputs": [],
   "source": []
  }
 ],
 "metadata": {
  "kernelspec": {
   "display_name": "Python 3.7.12 ('python37_ml')",
   "language": "python",
   "name": "python3"
  },
  "language_info": {
   "codemirror_mode": {
    "name": "ipython",
    "version": 3
   },
   "file_extension": ".py",
   "mimetype": "text/x-python",
   "name": "python",
   "nbconvert_exporter": "python",
   "pygments_lexer": "ipython3",
   "version": "3.7.12"
  },
  "orig_nbformat": 4,
  "vscode": {
   "interpreter": {
    "hash": "5be6a64c2b14e215fe1377bac5e5b92f19d9678c98112b4d1212159c456db459"
   }
  }
 },
 "nbformat": 4,
 "nbformat_minor": 2
}
