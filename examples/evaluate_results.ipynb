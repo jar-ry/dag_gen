{
 "cells": [
  {
   "cell_type": "code",
   "execution_count": 49,
   "metadata": {},
   "outputs": [
    {
     "data": {
      "text/plain": [
       "'C:\\\\Program Files\\\\R\\\\R-4.2.1\\\\bin\\\\Rscript'"
      ]
     },
     "execution_count": 49,
     "metadata": {},
     "output_type": "execute_result"
    }
   ],
   "source": [
    "import cdt\n",
    "import networkx as nx\n",
    "import warnings\n",
    "import numpy as np\n",
    "import os\n",
    "from pandas import DataFrame\n",
    "from cdt.metrics import SHD\n",
    "from cdt.metrics import SID\n",
    "import json\n",
    "from json.decoder import JSONDecodeError\n",
    "\n",
    "warnings.filterwarnings(\"ignore\")  # silence warnings\n",
    "\n",
    "cdt.SETTINGS.rpath = 'C:\\Program Files\\R\\R-4.2.1\\\\bin\\Rscript' # path to your r executable\n",
    "cdt.SETTINGS.rpath"
   ]
  },
  {
   "cell_type": "code",
   "execution_count": 2,
   "metadata": {},
   "outputs": [],
   "source": [
    "PREDS_DIR = \"outputs\"\n",
    "DATA_DIR = \"data\"\n",
    "PATH_SPLITTER = \"\\\\\""
   ]
  },
  {
   "cell_type": "code",
   "execution_count": 3,
   "metadata": {},
   "outputs": [
    {
     "data": {
      "text/plain": [
       "True"
      ]
     },
     "execution_count": 3,
     "metadata": {},
     "output_type": "execute_result"
    }
   ],
   "source": [
    "os.path.isdir(PREDS_DIR)"
   ]
  },
  {
   "cell_type": "code",
   "execution_count": 4,
   "metadata": {},
   "outputs": [
    {
     "data": {
      "text/plain": [
       "['cam']"
      ]
     },
     "execution_count": 4,
     "metadata": {},
     "output_type": "execute_result"
    }
   ],
   "source": [
    "method_dirs = os.listdir(path=PREDS_DIR)\n",
    "method_dirs"
   ]
  },
  {
   "cell_type": "markdown",
   "metadata": {},
   "source": [
    "# Process data"
   ]
  },
  {
   "cell_type": "code",
   "execution_count": 10,
   "metadata": {},
   "outputs": [],
   "source": [
    "def retrieve_adjacency_matrix(graph, order_nodes=None, weight=False):\n",
    "    \"\"\"Retrieve the adjacency matrix from the nx.DiGraph or numpy array.\"\"\"\n",
    "    if isinstance(graph, np.ndarray):\n",
    "        return graph\n",
    "    elif isinstance(graph, nx.DiGraph):\n",
    "        if order_nodes is None:\n",
    "            order_nodes = graph.nodes()\n",
    "        if not weight:\n",
    "            return np.array(nx.adjacency_matrix(graph, order_nodes, weight=None).todense())\n",
    "        else:\n",
    "            return np.array(nx.adjacency_matrix(graph, order_nodes).todense())\n",
    "    else:\n",
    "        raise TypeError(\"Only networkx.DiGraph and np.ndarray (adjacency matrixes) are supported.\")"
   ]
  },
  {
   "cell_type": "code",
   "execution_count": 50,
   "metadata": {},
   "outputs": [
    {
     "name": "stdout",
     "output_type": "stream",
     "text": [
      "outputs\\cam\\gaussian_add_mechanism\\medium_all\\metrics.json\n",
      "outputs\\cam\\gaussian_add_mechanism\\medium_confound\\metrics.json\n",
      "outputs\\cam\\gaussian_add_mechanism\\medium_selection_bias\\metrics.json\n",
      "outputs\\cam\\gaussian_add_mechanism\\medium_selection_bias_confound\\metrics.json\n",
      "outputs\\cam\\gaussian_add_mechanism\\medium_selection_bias_unfaithful\\metrics.json\n"
     ]
    }
   ],
   "source": [
    "loops = 0\n",
    "for meth_dir in method_dirs:\n",
    "    method_path = os.path.join(PREDS_DIR, meth_dir)\n",
    "    mechanism_dirs = os.listdir(path=method_path)\n",
    "\n",
    "    for mech_dir in mechanism_dirs:\n",
    "        if loops == 1:\n",
    "            break\n",
    "        mechanism_path = os.path.join(method_path, mech_dir)\n",
    "        dag_mech_path = os.path.join(DATA_DIR, mech_dir)\n",
    "        dataset_dirs = os.listdir(path=mechanism_path)\n",
    "        \n",
    "        for dataset_dir in dataset_dirs:\n",
    "            if loops == 1:\n",
    "                break\n",
    "            dataset_path = os.path.join(mechanism_path, dataset_dir)\n",
    "            pred_path = os.path.join(dataset_path, \"pred.npy\")\n",
    "            metrics_path = os.path.join(dataset_path, \"metrics.json\")\n",
    "            if os.path.exists(metrics_path):\n",
    "                with open(metrics_path, 'r') as fp:\n",
    "                    try:\n",
    "                        json.load(fp)\n",
    "                        continue\n",
    "                    except JSONDecodeError:\n",
    "                        pass\n",
    "\n",
    "            dag_dataset_path = os.path.join(dag_mech_path, dataset_dir)\n",
    "            dag_path = os.path.join(dag_dataset_path, \"DAG1.npy\")\n",
    "            \n",
    "            # Load true dag and pred dag\n",
    "            pred = np.load(pred_path)\n",
    "            dag = np.load(dag_path)\n",
    "            true_labels = retrieve_adjacency_matrix(dag)\n",
    "            predictions = retrieve_adjacency_matrix(pred, dag.nodes() \n",
    "                                            if isinstance(dag, nx.DiGraph) else None)\n",
    "\n",
    "            # Calculcate metrics\n",
    "            # Find flipped edges\n",
    "            transposed_pred = predictions.T\n",
    "            np.place(transposed_pred, transposed_pred == 1, 10)\n",
    "            diff_t = (true_labels -transposed_pred)\n",
    "            unique_t, counts_t = np.unique(diff_t, return_counts=True)\n",
    "            diff_dict_t = dict(zip(unique_t, counts_t))\n",
    "            flipped_edges = 0\n",
    "            if -9.0 in diff_dict_t.keys():\n",
    "                flipped_edges = diff_dict_t[-9.0]\n",
    "\n",
    "            # Find false positive and false negative\n",
    "            diff = (true_labels - predictions)\n",
    "            unique, counts = np.unique(diff, return_counts=True)\n",
    "            diff_dict = dict(zip(unique, counts))\n",
    "            false_positive_edges = 0\n",
    "            false_negative_edges = 0\n",
    "            if -1.0 in diff_dict_t.keys():\n",
    "                false_positive_edges = diff_dict[-1.0]\n",
    "            if 1 in diff_dict_t.keys():\n",
    "                false_negative_edges = diff_dict[1.0]\n",
    "\n",
    "            results_dict = {\n",
    "                \"SHD\": int(SHD(dag, pred, double_for_anticausal=False)),\n",
    "                \"SID\": int(SID(dag, pred)),\n",
    "                \"flipped_edges\": int(flipped_edges),\n",
    "                \"false_positive_edges\": int(false_positive_edges),\n",
    "                \"false_negative_edges\": int(false_negative_edges-flipped_edges)\n",
    "            }\n",
    "            with open(metrics_path, 'w') as fp:\n",
    "                json.dump(results_dict, fp)\n",
    "            \n",
    "\n"
   ]
  },
  {
   "cell_type": "markdown",
   "metadata": {},
   "source": [
    "## Read in results"
   ]
  },
  {
   "cell_type": "code",
   "execution_count": null,
   "metadata": {},
   "outputs": [],
   "source": []
  },
  {
   "cell_type": "code",
   "execution_count": null,
   "metadata": {},
   "outputs": [],
   "source": [
    "for data_dir in data_dirs:\n",
    "    data_path = data_dir.split(PATH_SPLITTER)[1:]\n",
    "    mechanism = data_path[0]\n",
    "    dataset = data_path[1]\n",
    "\n",
    "    input_mechanism_path = os.path.join(DATA_DIR, mechanism)\n",
    "    output_mechanism_path = os.path.join(notear_path, mechanism)\n",
    "    # Create results dir each causal mechanism group of data\n",
    "    if not os.path.isdir(output_mechanism_path):\n",
    "        os.mkdir(output_mechanism_path)\n",
    "\n",
    "    # Create results dir each dataset\n",
    "    input_dataset_path = os.path.join(input_mechanism_path, dataset)\n",
    "    output_dataset_path = os.path.join(output_mechanism_path, dataset)\n",
    "    if not os.path.isdir(output_dataset_path):\n",
    "        os.mkdir(output_dataset_path)\n",
    "    \n",
    "    if len(os.listdir(output_dataset_path)) == 0:\n",
    "        dataset_path = os.path.join(input_dataset_path, 'data1.npy')\n",
    "\n",
    "        # Process\n",
    "        data = np.load(dataset_path)\n",
    "        obj = CAM()\n",
    "        pred_graph = obj.predict(DataFrame(data))\n",
    "\n",
    "        pred_path = os.path.join(output_dataset_path, \"pred.npy\")\n",
    "        np.save(pred_path, nx.to_numpy_array(pred_graph))  \n"
   ]
  },
  {
   "cell_type": "code",
   "execution_count": null,
   "metadata": {},
   "outputs": [],
   "source": []
  }
 ],
 "metadata": {
  "kernelspec": {
   "display_name": "Python 3.7.12 ('python37_ml')",
   "language": "python",
   "name": "python3"
  },
  "language_info": {
   "codemirror_mode": {
    "name": "ipython",
    "version": 3
   },
   "file_extension": ".py",
   "mimetype": "text/x-python",
   "name": "python",
   "nbconvert_exporter": "python",
   "pygments_lexer": "ipython3",
   "version": "3.7.12"
  },
  "orig_nbformat": 4,
  "vscode": {
   "interpreter": {
    "hash": "5be6a64c2b14e215fe1377bac5e5b92f19d9678c98112b4d1212159c456db459"
   }
  }
 },
 "nbformat": 4,
 "nbformat_minor": 2
}
