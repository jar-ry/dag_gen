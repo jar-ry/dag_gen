{
 "cells": [
  {
   "cell_type": "code",
   "execution_count": 2,
   "metadata": {},
   "outputs": [
    {
     "name": "stderr",
     "output_type": "stream",
     "text": [
      "Detecting 1 CUDA device(s).\n"
     ]
    },
    {
     "data": {
      "text/plain": [
       "'C:\\\\Program Files\\\\R\\\\R-4.2.1\\\\bin\\\\Rscript'"
      ]
     },
     "execution_count": 2,
     "metadata": {},
     "output_type": "execute_result"
    }
   ],
   "source": [
    "import cdt\n",
    "import networkx as nx\n",
    "import warnings\n",
    "import numpy as np\n",
    "import os\n",
    "from cdt.causality.graph import CAM\n",
    "from pandas import DataFrame\n",
    "\n",
    "warnings.filterwarnings(\"ignore\")  # silence warnings\n",
    "\n",
    "cdt.SETTINGS.rpath = 'C:\\Program Files\\R\\R-4.2.1\\\\bin\\Rscript' # path to your r executable\n",
    "cdt.SETTINGS.rpath"
   ]
  },
  {
   "cell_type": "code",
   "execution_count": 3,
   "metadata": {},
   "outputs": [],
   "source": [
    "OUTPUT_DIR = \"outputs\"\n",
    "DATA_DIR = \"data\"\n",
    "PATH_SPLITTER = \"\\\\\""
   ]
  },
  {
   "cell_type": "code",
   "execution_count": 4,
   "metadata": {},
   "outputs": [],
   "source": [
    "if not os.path.isdir(OUTPUT_DIR):\n",
    "    os.mkdir(OUTPUT_DIR)\n",
    "notear_path = os.path.join(OUTPUT_DIR, 'cam')\n",
    "if not os.path.isdir(notear_path):\n",
    "    os.mkdir(notear_path)"
   ]
  },
  {
   "cell_type": "code",
   "execution_count": 5,
   "metadata": {},
   "outputs": [
    {
     "data": {
      "text/plain": [
       "['gaussian_add_mechanism',\n",
       " 'gaussian_mix_mechanism',\n",
       " 'linear_mechanism',\n",
       " 'mix_mechanism']"
      ]
     },
     "execution_count": 5,
     "metadata": {},
     "output_type": "execute_result"
    }
   ],
   "source": [
    "data_mechanism_dirs = os.listdir(path=DATA_DIR)\n",
    "data_mechanism_dirs"
   ]
  },
  {
   "cell_type": "markdown",
   "metadata": {},
   "source": [
    "# Process data"
   ]
  },
  {
   "cell_type": "code",
   "execution_count": 6,
   "metadata": {},
   "outputs": [],
   "source": [
    "max_depth = 0\n",
    "for root, directories, files in os.walk(DATA_DIR):\n",
    "    if len(root.split(PATH_SPLITTER)) > max_depth:\n",
    "        max_depth = len(root.split(PATH_SPLITTER))"
   ]
  },
  {
   "cell_type": "code",
   "execution_count": 7,
   "metadata": {},
   "outputs": [],
   "source": [
    "data_dirs = [x[0].replace(DATA_DIR, \"\") for x in os.walk(DATA_DIR) if len(x[0].split(PATH_SPLITTER)) > max_depth-1 ]\n",
    "output_dirs = [x[0].replace(notear_path, \"\") for x in os.walk(notear_path) if len(x[0].split(PATH_SPLITTER)) > max_depth]"
   ]
  },
  {
   "cell_type": "code",
   "execution_count": 8,
   "metadata": {},
   "outputs": [],
   "source": [
    "for data_dir in data_dirs:\n",
    "    data_path = data_dir.split(PATH_SPLITTER)[1:]\n",
    "    mechanism = data_path[0]\n",
    "    dataset = data_path[1]\n",
    "\n",
    "    input_mechanism_path = os.path.join(DATA_DIR, mechanism)\n",
    "    output_mechanism_path = os.path.join(notear_path, mechanism)\n",
    "    # Create results dir each causal mechanism group of data\n",
    "    if not os.path.isdir(output_mechanism_path):\n",
    "        os.mkdir(output_mechanism_path)\n",
    "\n",
    "    # Create results dir each dataset\n",
    "    input_dataset_path = os.path.join(input_mechanism_path, dataset)\n",
    "    output_dataset_path = os.path.join(output_mechanism_path, dataset)\n",
    "    if not os.path.isdir(output_dataset_path):\n",
    "        os.mkdir(output_dataset_path)\n",
    "    \n",
    "    if len(os.listdir(output_dataset_path)) == 0:\n",
    "        dataset_path = os.path.join(input_dataset_path, 'data1.npy')\n",
    "\n",
    "        # Process\n",
    "        data = np.load(dataset_path)\n",
    "        obj = CAM()\n",
    "        pred_graph = obj.predict(DataFrame(data))\n",
    "\n",
    "        pred_path = os.path.join(output_dataset_path, \"pred.npy\")\n",
    "        np.save(pred_path, nx.to_numpy_array(pred_graph))  \n"
   ]
  },
  {
   "cell_type": "code",
   "execution_count": null,
   "metadata": {},
   "outputs": [],
   "source": []
  }
 ],
 "metadata": {
  "kernelspec": {
   "display_name": "Python 3.7.12 ('python37_ml')",
   "language": "python",
   "name": "python3"
  },
  "language_info": {
   "codemirror_mode": {
    "name": "ipython",
    "version": 3
   },
   "file_extension": ".py",
   "mimetype": "text/x-python",
   "name": "python",
   "nbconvert_exporter": "python",
   "pygments_lexer": "ipython3",
   "version": "3.7.12"
  },
  "orig_nbformat": 4,
  "vscode": {
   "interpreter": {
    "hash": "5be6a64c2b14e215fe1377bac5e5b92f19d9678c98112b4d1212159c456db459"
   }
  }
 },
 "nbformat": 4,
 "nbformat_minor": 2
}
